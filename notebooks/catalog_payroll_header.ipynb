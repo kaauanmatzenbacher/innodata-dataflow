{
 "cells": [
  {
   "cell_type": "code",
   "execution_count": 5,
   "metadata": {},
   "outputs": [
    {
     "name": "stdout",
     "output_type": "stream",
     "text": [
      "Catálogo salvo localmente em: output/header_code_catalog.parquet\n"
     ]
    }
   ],
   "source": [
    "import pandas as pd\n",
    "import boto3\n",
    "from pyspark.sql import SparkSession\n",
    "\n",
    "# Inicializar Spark\n",
    "spark = SparkSession.builder.appName(\"GlueCatalogSimulation\").getOrCreate()\n",
    "\n",
    "# Inicializar cliente S3\n",
    "s3_client = boto3.client('s3')\n",
    "\n",
    "# Nome do bucket e caminho do arquivo\n",
    "bucket_name = \"innodata-etl-dev\"\n",
    "file_key = \"payroll/payroll_mapping/PAYROLL_HEADERS.CSV\"\n",
    "\n",
    "# Baixar o arquivo do S3\n",
    "response = s3_client.get_object(Bucket=bucket_name, Key=file_key)\n",
    "\n",
    "# Ler o CSV e selecionar as colunas necessárias\n",
    "df = pd.read_csv(pd.io.common.BytesIO(response['Body'].read()), encoding='latin1', sep=';')\n",
    "catalog_df = df[['HEADER_CODE_ORIGINAL', 'FACILITY', 'HEADER_CODE']]\n",
    "\n",
    "# Converter para PySpark DataFrame\n",
    "spark_df = spark.createDataFrame(catalog_df)\n",
    "\n",
    "# Salvar os dados localmente para simulação\n",
    "output_path = \"output/header_code_catalog.parquet\"\n",
    "spark_df.write.parquet(output_path, mode=\"overwrite\")\n",
    "\n",
    "print(f\"Catálogo salvo localmente em: {output_path}\")\n"
   ]
  }
 ],
 "metadata": {
  "kernelspec": {
   "display_name": "Python 3",
   "language": "python",
   "name": "python3"
  },
  "language_info": {
   "codemirror_mode": {
    "name": "ipython",
    "version": 3
   },
   "file_extension": ".py",
   "mimetype": "text/x-python",
   "name": "python",
   "nbconvert_exporter": "python",
   "pygments_lexer": "ipython3",
   "version": "3.12.1"
  }
 },
 "nbformat": 4,
 "nbformat_minor": 2
}
